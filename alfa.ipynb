{
 "cells": [
  {
   "cell_type": "markdown",
   "metadata": {},
   "source": [
    "# PROJETO DE DADOS HISTÓRICOS DO BRASILEIRÃO"
   ]
  },
  {
   "cell_type": "markdown",
   "metadata": {},
   "source": [
    "### Importando os dados"
   ]
  },
  {
   "cell_type": "code",
   "execution_count": 52,
   "metadata": {},
   "outputs": [],
   "source": [
    "import pandas as pd"
   ]
  },
  {
   "cell_type": "code",
   "execution_count": 65,
   "metadata": {},
   "outputs": [],
   "source": [
    "# Separar em arquivos diferentes por ano\n",
    "\n",
    "data_complete = pd.read_csv('brasileirao_serie_a.csv')\n",
    "\n",
    "anos_únicos = data_complete['ano_campeonato'].drop_duplicates().sort_values()\n",
    "\n",
    "for ano in anos_únicos:\n",
    "    \n",
    "    rows = []\n",
    "\n",
    "    for indice, linha in enumerate(data_complete['ano_campeonato']):\n",
    "        if linha == ano:\n",
    "            rows.append(data_complete.loc[indice])\n",
    "\n",
    "    data_per_year = pd.DataFrame(rows)\n",
    "    data_per_year.columns = data_complete.columns\n",
    "    data_per_year.to_csv(f'data_per_year/brasileirao_serie_a_{ano}.csv')"
   ]
  }
 ],
 "metadata": {
  "kernelspec": {
   "display_name": "Python 3",
   "language": "python",
   "name": "python3"
  },
  "language_info": {
   "codemirror_mode": {
    "name": "ipython",
    "version": 3
   },
   "file_extension": ".py",
   "mimetype": "text/x-python",
   "name": "python",
   "nbconvert_exporter": "python",
   "pygments_lexer": "ipython3",
   "version": "3.13.1"
  }
 },
 "nbformat": 4,
 "nbformat_minor": 2
}
